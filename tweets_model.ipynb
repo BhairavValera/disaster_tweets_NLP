{
 "cells": [
  {
   "cell_type": "markdown",
   "metadata": {},
   "source": [
    "# Real or Not? NLP with Disaster Tweets - Analysis and Predictions with LSTM Neural Network\n",
    "### Methodology inspired by [this article](https://medium.com/real-or-not-nlp-with-disaster-tweets/real-or-not-nlp-with-disaster-tweets-a-data-science-capstone-project-fafa6c35c16f) on Medium and two Kaggle notebooks [here](https://www.kaggle.com/shahules/basic-eda-cleaning-and-glove) and [here](https://www.kaggle.com/philculliton/nlp-getting-started-tutorial/)."
   ]
  },
  {
   "cell_type": "code",
   "execution_count": 58,
   "metadata": {},
   "outputs": [],
   "source": [
    "import pandas as pd\n",
    "import numpy as np\n",
    "import seaborn as sns\n",
    "import matplotlib.pyplot as plt\n",
    "import nltk\n",
    "import tensorflow_hub as hub\n",
    "from sklearn.model_selection import train_test_split\n",
    "from sklearn.metrics import accuracy_score\n",
    "from tensorflow import string, expand_dims\n",
    "from tensorflow.keras.models import Sequential\n",
    "from tensorflow.keras.layers import Dense, LSTM, Embedding, GlobalMaxPooling1D, Dropout, Input, BatchNormalization, Lambda\n",
    "from tensorflow.keras.preprocessing.text import Tokenizer\n",
    "from tensorflow.keras.preprocessing.sequence import pad_sequences"
   ]
  },
  {
   "cell_type": "code",
   "execution_count": 59,
   "metadata": {},
   "outputs": [],
   "source": [
    "pd.options.mode.chained_assignment = None  # default='warn'"
   ]
  },
  {
   "cell_type": "markdown",
   "metadata": {},
   "source": [
    "# 1. Data Exploration"
   ]
  },
  {
   "cell_type": "code",
   "execution_count": 60,
   "metadata": {},
   "outputs": [
    {
     "name": "stdout",
     "output_type": "stream",
     "text": [
      "         id keyword location  \\\n",
      "0         1     NaN      NaN   \n",
      "1         4     NaN      NaN   \n",
      "2         5     NaN      NaN   \n",
      "3         6     NaN      NaN   \n",
      "4         7     NaN      NaN   \n",
      "...     ...     ...      ...   \n",
      "7608  10869     NaN      NaN   \n",
      "7609  10870     NaN      NaN   \n",
      "7610  10871     NaN      NaN   \n",
      "7611  10872     NaN      NaN   \n",
      "7612  10873     NaN      NaN   \n",
      "\n",
      "                                                   text  target  \n",
      "0     Our Deeds are the Reason of this #earthquake M...       1  \n",
      "1                Forest fire near La Ronge Sask. Canada       1  \n",
      "2     All residents asked to 'shelter in place' are ...       1  \n",
      "3     13,000 people receive #wildfires evacuation or...       1  \n",
      "4     Just got sent this photo from Ruby #Alaska as ...       1  \n",
      "...                                                 ...     ...  \n",
      "7608  Two giant cranes holding a bridge collapse int...       1  \n",
      "7609  @aria_ahrary @TheTawniest The out of control w...       1  \n",
      "7610  M1.94 [01:04 UTC]?5km S of Volcano Hawaii. htt...       1  \n",
      "7611  Police investigating after an e-bike collided ...       1  \n",
      "7612  The Latest: More Homes Razed by Northern Calif...       1  \n",
      "\n",
      "[7613 rows x 5 columns]\n"
     ]
    }
   ],
   "source": [
    "X_full = pd.read_csv('train.csv')\n",
    "print(X_full)"
   ]
  },
  {
   "cell_type": "markdown",
   "metadata": {},
   "source": [
    "#### Missing values need to be filled in properly. Because the location feature itself is not standardized/automatically generated, we should drop it!"
   ]
  },
  {
   "cell_type": "code",
   "execution_count": 61,
   "metadata": {},
   "outputs": [],
   "source": [
    "X_full = X_full.drop(['location'], axis=1)"
   ]
  },
  {
   "cell_type": "markdown",
   "metadata": {},
   "source": [
    "#### Can text length be a good predictor of disasterous tweets?"
   ]
  },
  {
   "cell_type": "code",
   "execution_count": 62,
   "metadata": {},
   "outputs": [],
   "source": [
    "X_full['text_length'] = X_full['text'].apply(lambda x : len(x))"
   ]
  },
  {
   "cell_type": "code",
   "execution_count": 63,
   "metadata": {},
   "outputs": [
    {
     "data": {
      "text/plain": [
       "<matplotlib.legend.Legend at 0x1be2c321bb0>"
      ]
     },
     "execution_count": 63,
     "metadata": {},
     "output_type": "execute_result"
    },
    {
     "data": {
      "image/png": "[encoded data removed]",
      "text/plain": [
       "<Figure size 720x360 with 1 Axes>"
      ]
     },
     "metadata": {
      "needs_background": "light"
     },
     "output_type": "display_data"
    }
   ],
   "source": [
    "plt.figure(figsize=(10, 5))\n",
    "sns.distplot(X_full[X_full['target'] == 0]['text_length'], color='green', label='Not a disaster')\n",
    "sns.distplot(X_full[X_full['target'] == 1]['text_length'], color='blue', label='Disaster')\n",
    "plt.legend()"
   ]
  },
  {
   "cell_type": "markdown",
   "metadata": {},
   "source": [
    "#### Evidently, there doesn't seem to be a discernable correlation between the tweets: both disasterous and non-disasterous tweets have long and short text lengths."
   ]
  },
  {
   "cell_type": "markdown",
   "metadata": {},
   "source": [
    "# 2. Data Preprocessing\n",
    "## Data preprocessing for NLP consists of cleaning and tokenizing the text.\n",
    "#### a) Make all text uppercase to make sure NLP algo treats all text equally\n",
    "#### b) Remove noise (punctuation, numerical values)\n",
    "#### c) Stopword removal (common words)"
   ]
  },
  {
   "cell_type": "code",
   "execution_count": 64,
   "metadata": {},
   "outputs": [],
   "source": [
    "def clean_text(data: 'pandas.core.frame.DataFrame') -> 'pandas.core.frame.DataFrame':\n",
    "    data['text'] = data['text'].str.upper()\n",
    "    #Getting all alphanumeric characters\n",
    "    data['text_clean'] = np.nan\n",
    "    alphanumeric = []\n",
    "    for value in range(0, 128):\n",
    "        if (value >= 48 and value <= 57) or (value >= 65 and value <= 90) or value == 32:\n",
    "            alphanumeric.append(chr(value))\n",
    "    #Making a new dataframe column that only contains strings that only have alphanumeric values.\n",
    "    for i in range(data.shape[0]):\n",
    "        current_string = list(data['text'][i])\n",
    "        new_string = []\n",
    "        for j in range(len(current_string)):\n",
    "            if current_string[j] in alphanumeric:\n",
    "                new_string.append(current_string[j])\n",
    "        new_string = ''.join(new_string)\n",
    "        data['text_clean'][i] = new_string\n",
    "    return data"
   ]
  },
  {
   "cell_type": "code",
   "execution_count": 65,
   "metadata": {},
   "outputs": [],
   "source": [
    "def stopword_removal(data: 'pandas.core.frame.DataFrame') -> 'pandas.core.frame.DataFrame':\n",
    "    for i in range(data.shape[0]):\n",
    "        #Keep only words that are not in the stopwords dictionary\n",
    "        new_text = []\n",
    "        sentence = data['text_clean'][i].split(' ')\n",
    "        for word in sentence:\n",
    "            if word.lower() not in nltk.corpus.stopwords.words('english'):\n",
    "                new_text.append(word)\n",
    "        new_text = ' '.join(new_text)\n",
    "        data['text_clean'][i] = new_text\n",
    "    return data"
   ]
  },
  {
   "cell_type": "code",
   "execution_count": 66,
   "metadata": {},
   "outputs": [],
   "source": [
    "def preprocessor(data: 'pandas.core.frame.DataFrame') -> 'pandas.core.frame.DataFrame':\n",
    "    data = clean_text(data)\n",
    "    data = stopword_removal(data)\n",
    "    return data"
   ]
  },
  {
   "cell_type": "code",
   "execution_count": 67,
   "metadata": {},
   "outputs": [],
   "source": [
    "X_full = preprocessor(X_full)\n",
    "#We don't need the raw text anymore, so we can drop that column\n",
    "X_full = X_full.drop(['text'], axis=1)"
   ]
  },
  {
   "cell_type": "markdown",
   "metadata": {},
   "source": [
    "## We split the model into training and validation data."
   ]
  },
  {
   "cell_type": "code",
   "execution_count": 68,
   "metadata": {},
   "outputs": [],
   "source": [
    "X_train, X_valid, y_train, y_valid = train_test_split(X_full['text_clean'], X_full['target'], test_size=0.2, random_state=42)"
   ]
  },
  {
   "cell_type": "markdown",
   "metadata": {},
   "source": [
    "## Tokenize the data such that it can be comprehensible by the model."
   ]
  },
  {
   "cell_type": "code",
   "execution_count": 69,
   "metadata": {},
   "outputs": [],
   "source": [
    "tokenizer = Tokenizer()\n",
    "tokenizer.fit_on_texts(X_train)\n",
    "X_train_tokenized = tokenizer.texts_to_sequences(X_train)\n",
    "X_valid_tokenized = tokenizer.texts_to_sequences(X_valid)\n",
    "\n",
    "y_train = y_train.values\n",
    "y_valid = y_valid.values"
   ]
  },
  {
   "cell_type": "markdown",
   "metadata": {},
   "source": [
    "## Pad the data to avoid overfitting(?)."
   ]
  },
  {
   "cell_type": "code",
   "execution_count": 70,
   "metadata": {},
   "outputs": [],
   "source": [
    "X_train_padded = pad_sequences(X_train_tokenized, padding='post', maxlen=100)\n",
    "X_valid_padded = pad_sequences(X_valid_tokenized, padding='post', maxlen=100)"
   ]
  },
  {
   "cell_type": "markdown",
   "metadata": {},
   "source": [
    "# 3. Defining NN model for text classification."
   ]
  },
  {
   "cell_type": "code",
   "execution_count": 71,
   "metadata": {},
   "outputs": [],
   "source": [
    "# %%time\n",
    "# embedding_model = 'https://tfhub.dev/google/universal-sentence-encoder-large/4'\n",
    "# embedding = hub.KerasLayer(embedding_model, trainable=False, name='USE_embedding')"
   ]
  },
  {
   "cell_type": "code",
   "execution_count": 72,
   "metadata": {},
   "outputs": [],
   "source": [
    "# droupout = 0.5\n",
    "\n",
    "# LSTM_model = Sequential([\n",
    "#     Input(shape=[], dtype=string),\n",
    "#     embedding,\n",
    "#     Dense(256, activation='relu'),\n",
    "#     BatchNormalization(),\n",
    "#     Dropout(dropout),\n",
    "#     Dense(128, activation='relu'),\n",
    "#     BatchNormalization(),\n",
    "#     Dropout(dropout),\n",
    "#     Dense(1, activation='sigmoid')\n",
    "# ])\n",
    "\n",
    "# LSTM_model.compile(loss='binary_crossentropy', optimizer='adam', metrics=['accuracy'])\n",
    "\n",
    "# LSTM_model.summary()"
   ]
  },
  {
   "cell_type": "code",
   "execution_count": 73,
   "metadata": {},
   "outputs": [
    {
     "name": "stdout",
     "output_type": "stream",
     "text": [
      "Model: \"sequential_6\"\n",
      "_________________________________________________________________\n",
      "Layer (type)                 Output Shape              Param #   \n",
      "=================================================================\n",
      "embedding_6 (Embedding)      (None, 100, 100)          1915600   \n",
      "_________________________________________________________________\n",
      "global_max_pooling1d_6 (Glob (None, 100)               0         \n",
      "_________________________________________________________________\n",
      "dense_7 (Dense)              (None, 256)               25856     \n",
      "_________________________________________________________________\n",
      "batch_normalization_7 (Batch (None, 256)               1024      \n",
      "_________________________________________________________________\n",
      "dropout_7 (Dropout)          (None, 256)               0         \n",
      "_________________________________________________________________\n",
      "dense_8 (Dense)              (None, 256)               65792     \n",
      "_________________________________________________________________\n",
      "batch_normalization_8 (Batch (None, 256)               1024      \n",
      "_________________________________________________________________\n",
      "dropout_8 (Dropout)          (None, 256)               0         \n",
      "_________________________________________________________________\n",
      "dense_9 (Dense)              (None, 1)                 257       \n",
      "=================================================================\n",
      "Total params: 2,009,553\n",
      "Trainable params: 2,008,529\n",
      "Non-trainable params: 1,024\n",
      "_________________________________________________________________\n"
     ]
    }
   ],
   "source": [
    "embedding_dim = 100\n",
    "dropout = 0.5\n",
    "MAX_SEQ_LENGTH = len(tokenizer.word_index) + 1\n",
    "\n",
    "model = Sequential()\n",
    "model.add(Embedding(input_dim=MAX_SEQ_LENGTH,\n",
    "              output_dim=embedding_dim,\n",
    "              input_length=100))\n",
    "model.add(GlobalMaxPooling1D())\n",
    "model.add(Dense(256, activation='relu'))\n",
    "model.add(BatchNormalization())\n",
    "model.add(Dropout(dropout))\n",
    "model.add(Dense(256, activation='relu'))\n",
    "model.add(BatchNormalization())\n",
    "model.add(Dropout(dropout))\n",
    "model.add(Dense(1, activation='sigmoid'))\n",
    "\n",
    "model.compile(loss='binary_crossentropy', optimizer='adam', metrics=['accuracy'])\n",
    "\n",
    "model.summary()"
   ]
  },
  {
   "cell_type": "code",
   "execution_count": 74,
   "metadata": {},
   "outputs": [
    {
     "name": "stdout",
     "output_type": "stream",
     "text": [
      "Epoch 1/20\n",
      "77/77 [==============================] - 4s 49ms/step - loss: 0.8415 - accuracy: 0.5866 - val_loss: 0.6860 - val_accuracy: 0.5616\n",
      "Epoch 2/20\n",
      "77/77 [==============================] - 4s 52ms/step - loss: 0.4487 - accuracy: 0.8161 - val_loss: 0.6719 - val_accuracy: 0.5616\n",
      "Epoch 3/20\n",
      "77/77 [==============================] - 4s 47ms/step - loss: 0.2207 - accuracy: 0.9197 - val_loss: 0.6527 - val_accuracy: 0.5698\n",
      "Epoch 4/20\n",
      "77/77 [==============================] - 4s 52ms/step - loss: 0.1162 - accuracy: 0.9616 - val_loss: 0.5642 - val_accuracy: 0.7085\n",
      "Epoch 5/20\n",
      "77/77 [==============================] - 4s 48ms/step - loss: 0.0751 - accuracy: 0.9774 - val_loss: 0.5388 - val_accuracy: 0.7438\n",
      "Epoch 6/20\n",
      "77/77 [==============================] - 4s 49ms/step - loss: 0.0547 - accuracy: 0.9842 - val_loss: 0.5653 - val_accuracy: 0.7488\n",
      "Epoch 7/20\n",
      "77/77 [==============================] - 4s 49ms/step - loss: 0.0383 - accuracy: 0.9895 - val_loss: 0.5853 - val_accuracy: 0.7759\n",
      "Epoch 8/20\n",
      "77/77 [==============================] - 4s 46ms/step - loss: 0.0311 - accuracy: 0.9932 - val_loss: 0.6731 - val_accuracy: 0.7824\n",
      "Epoch 9/20\n",
      "77/77 [==============================] - 4s 48ms/step - loss: 0.0358 - accuracy: 0.9910 - val_loss: 0.7604 - val_accuracy: 0.7816\n",
      "Epoch 10/20\n",
      "77/77 [==============================] - 4s 48ms/step - loss: 0.0304 - accuracy: 0.9920 - val_loss: 0.8407 - val_accuracy: 0.7800\n",
      "Epoch 11/20\n",
      "77/77 [==============================] - 4s 51ms/step - loss: 0.0351 - accuracy: 0.9916 - val_loss: 0.8703 - val_accuracy: 0.7759\n",
      "Epoch 12/20\n",
      "77/77 [==============================] - 4s 49ms/step - loss: 0.0325 - accuracy: 0.9908 - val_loss: 0.9577 - val_accuracy: 0.7734\n",
      "Epoch 13/20\n",
      "77/77 [==============================] - 4s 48ms/step - loss: 0.0308 - accuracy: 0.9906 - val_loss: 0.9543 - val_accuracy: 0.7677\n",
      "Epoch 14/20\n",
      "77/77 [==============================] - 4s 49ms/step - loss: 0.0236 - accuracy: 0.9943 - val_loss: 0.9719 - val_accuracy: 0.7693\n",
      "Epoch 15/20\n",
      "77/77 [==============================] - 4s 51ms/step - loss: 0.0230 - accuracy: 0.9945 - val_loss: 0.9974 - val_accuracy: 0.7800\n",
      "Epoch 16/20\n",
      "77/77 [==============================] - 4s 51ms/step - loss: 0.0298 - accuracy: 0.9922 - val_loss: 0.9652 - val_accuracy: 0.7635\n",
      "Epoch 17/20\n",
      "77/77 [==============================] - 4s 50ms/step - loss: 0.0293 - accuracy: 0.9928 - val_loss: 1.1089 - val_accuracy: 0.7619\n",
      "Epoch 18/20\n",
      "77/77 [==============================] - 4s 50ms/step - loss: 0.0215 - accuracy: 0.9940 - val_loss: 1.0665 - val_accuracy: 0.7709\n",
      "Epoch 19/20\n",
      "77/77 [==============================] - 4s 52ms/step - loss: 0.0248 - accuracy: 0.9932 - val_loss: 1.1362 - val_accuracy: 0.7726\n",
      "Epoch 20/20\n",
      "77/77 [==============================] - 4s 52ms/step - loss: 0.0242 - accuracy: 0.9934 - val_loss: 1.2258 - val_accuracy: 0.7652\n"
     ]
    }
   ],
   "source": [
    "hist = model.fit(X_train_padded, y_train,\n",
    "                     epochs=20,\n",
    "                     verbose=1,\n",
    "                     validation_split=0.2,\n",
    "                     batch_size=64)"
   ]
  },
  {
   "cell_type": "code",
   "execution_count": 75,
   "metadata": {},
   "outputs": [],
   "source": [
    "#Saving model weights\n",
    "LSTM_model.save_weights('LSTM_model_20epoch_full.h5')"
   ]
  },
  {
   "cell_type": "code",
   "execution_count": 76,
   "metadata": {},
   "outputs": [
    {
     "name": "stdout",
     "output_type": "stream",
     "text": [
      "0.767564018384767\n"
     ]
    }
   ],
   "source": [
    "#Evaluating model accuracy\n",
    "predictions = LSTM_model.predict(X_valid_padded)\n",
    "predictions_norm = np.round(predictions)\n",
    "y_pred = []\n",
    "for p in predictions_norm:\n",
    "    y_pred.append(p[0])\n",
    "print(accuracy_score(y_pred, y_valid))"
   ]
  },
  {
   "cell_type": "markdown",
   "metadata": {},
   "source": [
    "# 4. Making predictions using the test set.\n",
    "## To make predictions using the test set, we have to load the data in, remove dirty features, clean it, and vectorize it."
   ]
  },
  {
   "cell_type": "code",
   "execution_count": 77,
   "metadata": {},
   "outputs": [
    {
     "name": "stdout",
     "output_type": "stream",
     "text": [
      "         id keyword location  \\\n",
      "0         0     NaN      NaN   \n",
      "1         2     NaN      NaN   \n",
      "2         3     NaN      NaN   \n",
      "3         9     NaN      NaN   \n",
      "4        11     NaN      NaN   \n",
      "...     ...     ...      ...   \n",
      "3258  10861     NaN      NaN   \n",
      "3259  10865     NaN      NaN   \n",
      "3260  10868     NaN      NaN   \n",
      "3261  10874     NaN      NaN   \n",
      "3262  10875     NaN      NaN   \n",
      "\n",
      "                                                   text  \n",
      "0                    Just happened a terrible car crash  \n",
      "1     Heard about #earthquake is different cities, s...  \n",
      "2     there is a forest fire at spot pond, geese are...  \n",
      "3              Apocalypse lighting. #Spokane #wildfires  \n",
      "4         Typhoon Soudelor kills 28 in China and Taiwan  \n",
      "...                                                 ...  \n",
      "3258  EARTHQUAKE SAFETY LOS ANGELES ÛÒ SAFETY FASTE...  \n",
      "3259  Storm in RI worse than last hurricane. My city...  \n",
      "3260  Green Line derailment in Chicago http://t.co/U...  \n",
      "3261  MEG issues Hazardous Weather Outlook (HWO) htt...  \n",
      "3262  #CityofCalgary has activated its Municipal Eme...  \n",
      "\n",
      "[3263 rows x 4 columns]\n"
     ]
    }
   ],
   "source": [
    "X_test_full = pd.read_csv('test.csv')\n",
    "print(X_test_full)"
   ]
  },
  {
   "cell_type": "code",
   "execution_count": 78,
   "metadata": {},
   "outputs": [],
   "source": [
    "X_test_full = X_test_full.drop(['keyword', 'location'], axis=1)\n",
    "X_test_full = preprocessor(X_test_full)\n",
    "X_test_full = X_test_full.drop(['text'], axis=1)\n",
    "X_test = X_test_full['text_clean']"
   ]
  },
  {
   "cell_type": "code",
   "execution_count": 79,
   "metadata": {},
   "outputs": [],
   "source": [
    "X_test_tokenized = tokenizer.texts_to_sequences(X_test)\n",
    "X_test_padded = pad_sequences(X_test_tokenized, padding='post', maxlen=100)"
   ]
  },
  {
   "cell_type": "code",
   "execution_count": 80,
   "metadata": {},
   "outputs": [],
   "source": [
    "#Making the prediction\n",
    "test_preds = LSTM_model.predict(X_test_padded)\n",
    "test_preds_norm = np.round(test_preds)\n",
    "preds = []\n",
    "for p in test_preds_norm:\n",
    "    preds.append(int(p[0]))"
   ]
  },
  {
   "cell_type": "code",
   "execution_count": 81,
   "metadata": {},
   "outputs": [],
   "source": [
    "#Writing to submission file\n",
    "submission = pd.DataFrame({\n",
    "    'id':X_test_full['id'],\n",
    "    'target':preds\n",
    "})\n",
    "submission.to_csv('submission.csv', index=False)"
   ]
  }
 ],
 "metadata": {
  "kernelspec": {
   "display_name": "Python 3",
   "language": "python",
   "name": "python3"
  },
  "language_info": {
   "codemirror_mode": {
    "name": "ipython",
    "version": 3
   },
   "file_extension": ".py",
   "mimetype": "text/x-python",
   "name": "python",
   "nbconvert_exporter": "python",
   "pygments_lexer": "ipython3",
   "version": "3.8.3"
  }
 },
 "nbformat": 4,
 "nbformat_minor": 4
}
